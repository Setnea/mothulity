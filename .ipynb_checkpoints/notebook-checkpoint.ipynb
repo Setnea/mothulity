{
 "cells": [
  {
   "cell_type": "code",
   "execution_count": 1,
   "metadata": {
    "collapsed": true
   },
   "outputs": [],
   "source": [
    "import os\n",
    "import pandas as pd"
   ]
  },
  {
   "cell_type": "code",
   "execution_count": 14,
   "metadata": {
    "collapsed": true
   },
   "outputs": [],
   "source": [
    "files_directory = \"/home/darek/Pulpit/zury_V3_V4/\""
   ]
  },
  {
   "cell_type": "code",
   "execution_count": 15,
   "metadata": {
    "collapsed": true
   },
   "outputs": [],
   "source": [
    "files_extension = \"fastq\""
   ]
  },
  {
   "cell_type": "code",
   "execution_count": 16,
   "metadata": {
    "collapsed": false
   },
   "outputs": [],
   "source": [
    "files_list = os.listdir(files_directory)"
   ]
  },
  {
   "cell_type": "code",
   "execution_count": 17,
   "metadata": {
    "collapsed": false
   },
   "outputs": [
    {
     "data": {
      "text/plain": [
       "['SP1-IIIB',\n",
       " 'SZ2-IB',\n",
       " 'SO1-IIIB',\n",
       " 'SZ2-IIIB',\n",
       " 'SP1IIB',\n",
       " 'SP1IB',\n",
       " 'SP1-IIIB',\n",
       " 'SZ2-IIB',\n",
       " 'SZ2-IB',\n",
       " 'SP1IB',\n",
       " 'SP1IIB',\n",
       " 'SZ2-IIB',\n",
       " 'SO1-IIIB',\n",
       " 'SO1IB',\n",
       " 'SO1IB',\n",
       " 'SO1IIB',\n",
       " 'SZ2-IIIB',\n",
       " 'SO1IIB']"
      ]
     },
     "execution_count": 17,
     "metadata": {},
     "output_type": "execute_result"
    }
   ],
   "source": [
    "[i.split(\"_\")[0] for i in files_list if files_extension in i]"
   ]
  },
  {
   "cell_type": "code",
   "execution_count": null,
   "metadata": {
    "collapsed": true
   },
   "outputs": [],
   "source": []
  }
 ],
 "metadata": {
  "kernelspec": {
   "display_name": "Python 2",
   "language": "python",
   "name": "python2"
  },
  "language_info": {
   "codemirror_mode": {
    "name": "ipython",
    "version": 2
   },
   "file_extension": ".py",
   "mimetype": "text/x-python",
   "name": "python",
   "nbconvert_exporter": "python",
   "pygments_lexer": "ipython2",
   "version": "2.7.12"
  }
 },
 "nbformat": 4,
 "nbformat_minor": 1
}
